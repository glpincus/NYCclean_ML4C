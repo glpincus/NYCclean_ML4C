{
 "cells": [
  {
   "cell_type": "code",
   "execution_count": 1,
   "metadata": {},
   "outputs": [],
   "source": [
    "import pandas as pd\n",
    "import numpy as np\n",
    "\n",
    "from sklearn import svm\n",
    "from sklearn.model_selection import train_test_split, GridSearchCV\n",
    "from sklearn.metrics import accuracy_score\n",
    "from sklearn.metrics import f1_score"
   ]
  },
  {
   "cell_type": "code",
   "execution_count": 2,
   "metadata": {},
   "outputs": [
    {
     "data": {
      "text/html": [
       "<div>\n",
       "<style scoped>\n",
       "    .dataframe tbody tr th:only-of-type {\n",
       "        vertical-align: middle;\n",
       "    }\n",
       "\n",
       "    .dataframe tbody tr th {\n",
       "        vertical-align: top;\n",
       "    }\n",
       "\n",
       "    .dataframe thead th {\n",
       "        text-align: right;\n",
       "    }\n",
       "</style>\n",
       "<table border=\"1\" class=\"dataframe\">\n",
       "  <thead>\n",
       "    <tr style=\"text-align: right;\">\n",
       "      <th></th>\n",
       "      <th>CD</th>\n",
       "      <th>Year</th>\n",
       "      <th>Month</th>\n",
       "      <th>dirty_level</th>\n",
       "      <th>Count311_pp</th>\n",
       "      <th>fs_openhours</th>\n",
       "      <th>trs_permits</th>\n",
       "      <th>total_number_of_households</th>\n",
       "      <th>hh_compost_percent</th>\n",
       "      <th>wfr_avg_recycling</th>\n",
       "      <th>...</th>\n",
       "      <th>paper_baskets_sqmi</th>\n",
       "      <th>mgp_baskets_sqmi</th>\n",
       "      <th>seasonal_wire_litter_basket_sqmi</th>\n",
       "      <th>highend_basket_sqmi</th>\n",
       "      <th>publicspacereceptacle_sqmi</th>\n",
       "      <th>wire_basket_sqmi</th>\n",
       "      <th>total_litter_baskets_sqmi</th>\n",
       "      <th>fs_open_sqmi</th>\n",
       "      <th>restaurant_sqmi</th>\n",
       "      <th>business_sqmi</th>\n",
       "    </tr>\n",
       "  </thead>\n",
       "  <tbody>\n",
       "    <tr>\n",
       "      <th>0</th>\n",
       "      <td>BK01</td>\n",
       "      <td>2016</td>\n",
       "      <td>11</td>\n",
       "      <td>2</td>\n",
       "      <td>0.000289</td>\n",
       "      <td>333.25</td>\n",
       "      <td>14.0</td>\n",
       "      <td>92610</td>\n",
       "      <td>0.105226</td>\n",
       "      <td>1.0</td>\n",
       "      <td>...</td>\n",
       "      <td>1.904491</td>\n",
       "      <td>1.904491</td>\n",
       "      <td>0.0</td>\n",
       "      <td>0.42322</td>\n",
       "      <td>0.21161</td>\n",
       "      <td>2.116101</td>\n",
       "      <td>2.962542</td>\n",
       "      <td>1.269661</td>\n",
       "      <td>45.919401</td>\n",
       "      <td>208.224379</td>\n",
       "    </tr>\n",
       "    <tr>\n",
       "      <th>1</th>\n",
       "      <td>BK01</td>\n",
       "      <td>2016</td>\n",
       "      <td>12</td>\n",
       "      <td>1</td>\n",
       "      <td>0.000208</td>\n",
       "      <td>333.25</td>\n",
       "      <td>14.0</td>\n",
       "      <td>92610</td>\n",
       "      <td>0.105226</td>\n",
       "      <td>1.0</td>\n",
       "      <td>...</td>\n",
       "      <td>1.904491</td>\n",
       "      <td>1.904491</td>\n",
       "      <td>0.0</td>\n",
       "      <td>0.42322</td>\n",
       "      <td>0.21161</td>\n",
       "      <td>2.116101</td>\n",
       "      <td>2.962542</td>\n",
       "      <td>1.269661</td>\n",
       "      <td>45.919401</td>\n",
       "      <td>193.623279</td>\n",
       "    </tr>\n",
       "    <tr>\n",
       "      <th>2</th>\n",
       "      <td>BK01</td>\n",
       "      <td>2017</td>\n",
       "      <td>1</td>\n",
       "      <td>2</td>\n",
       "      <td>0.000295</td>\n",
       "      <td>333.25</td>\n",
       "      <td>14.0</td>\n",
       "      <td>92610</td>\n",
       "      <td>0.105226</td>\n",
       "      <td>1.0</td>\n",
       "      <td>...</td>\n",
       "      <td>1.904491</td>\n",
       "      <td>1.904491</td>\n",
       "      <td>0.0</td>\n",
       "      <td>0.42322</td>\n",
       "      <td>0.21161</td>\n",
       "      <td>2.116101</td>\n",
       "      <td>2.962542</td>\n",
       "      <td>1.269661</td>\n",
       "      <td>45.919401</td>\n",
       "      <td>194.892940</td>\n",
       "    </tr>\n",
       "    <tr>\n",
       "      <th>3</th>\n",
       "      <td>BK01</td>\n",
       "      <td>2017</td>\n",
       "      <td>2</td>\n",
       "      <td>2</td>\n",
       "      <td>0.000352</td>\n",
       "      <td>333.25</td>\n",
       "      <td>14.0</td>\n",
       "      <td>92610</td>\n",
       "      <td>0.105226</td>\n",
       "      <td>1.0</td>\n",
       "      <td>...</td>\n",
       "      <td>1.904491</td>\n",
       "      <td>1.904491</td>\n",
       "      <td>0.0</td>\n",
       "      <td>0.42322</td>\n",
       "      <td>0.21161</td>\n",
       "      <td>2.116101</td>\n",
       "      <td>2.962542</td>\n",
       "      <td>1.269661</td>\n",
       "      <td>45.919401</td>\n",
       "      <td>185.582094</td>\n",
       "    </tr>\n",
       "    <tr>\n",
       "      <th>4</th>\n",
       "      <td>BK01</td>\n",
       "      <td>2017</td>\n",
       "      <td>3</td>\n",
       "      <td>2</td>\n",
       "      <td>0.000387</td>\n",
       "      <td>333.25</td>\n",
       "      <td>14.0</td>\n",
       "      <td>92610</td>\n",
       "      <td>0.105226</td>\n",
       "      <td>1.0</td>\n",
       "      <td>...</td>\n",
       "      <td>1.904491</td>\n",
       "      <td>1.904491</td>\n",
       "      <td>0.0</td>\n",
       "      <td>0.42322</td>\n",
       "      <td>0.21161</td>\n",
       "      <td>2.116101</td>\n",
       "      <td>2.962542</td>\n",
       "      <td>1.269661</td>\n",
       "      <td>45.919401</td>\n",
       "      <td>187.486585</td>\n",
       "    </tr>\n",
       "  </tbody>\n",
       "</table>\n",
       "<p>5 rows × 44 columns</p>\n",
       "</div>"
      ],
      "text/plain": [
       "     CD  Year  Month  dirty_level  Count311_pp  fs_openhours  trs_permits  \\\n",
       "0  BK01  2016     11            2     0.000289        333.25         14.0   \n",
       "1  BK01  2016     12            1     0.000208        333.25         14.0   \n",
       "2  BK01  2017      1            2     0.000295        333.25         14.0   \n",
       "3  BK01  2017      2            2     0.000352        333.25         14.0   \n",
       "4  BK01  2017      3            2     0.000387        333.25         14.0   \n",
       "\n",
       "   total_number_of_households  hh_compost_percent  wfr_avg_recycling  ...  \\\n",
       "0                       92610            0.105226                1.0  ...   \n",
       "1                       92610            0.105226                1.0  ...   \n",
       "2                       92610            0.105226                1.0  ...   \n",
       "3                       92610            0.105226                1.0  ...   \n",
       "4                       92610            0.105226                1.0  ...   \n",
       "\n",
       "   paper_baskets_sqmi  mgp_baskets_sqmi  seasonal_wire_litter_basket_sqmi  \\\n",
       "0            1.904491          1.904491                               0.0   \n",
       "1            1.904491          1.904491                               0.0   \n",
       "2            1.904491          1.904491                               0.0   \n",
       "3            1.904491          1.904491                               0.0   \n",
       "4            1.904491          1.904491                               0.0   \n",
       "\n",
       "   highend_basket_sqmi  publicspacereceptacle_sqmi  wire_basket_sqmi  \\\n",
       "0              0.42322                     0.21161          2.116101   \n",
       "1              0.42322                     0.21161          2.116101   \n",
       "2              0.42322                     0.21161          2.116101   \n",
       "3              0.42322                     0.21161          2.116101   \n",
       "4              0.42322                     0.21161          2.116101   \n",
       "\n",
       "   total_litter_baskets_sqmi  fs_open_sqmi  restaurant_sqmi  business_sqmi  \n",
       "0                   2.962542      1.269661        45.919401     208.224379  \n",
       "1                   2.962542      1.269661        45.919401     193.623279  \n",
       "2                   2.962542      1.269661        45.919401     194.892940  \n",
       "3                   2.962542      1.269661        45.919401     185.582094  \n",
       "4                   2.962542      1.269661        45.919401     187.486585  \n",
       "\n",
       "[5 rows x 44 columns]"
      ]
     },
     "execution_count": 2,
     "metadata": {},
     "output_type": "execute_result"
    }
   ],
   "source": [
    "df = pd.read_csv('./Data/final_merged_normalized_discretized.csv', index_col=0)\n",
    "df.head()"
   ]
  },
  {
   "cell_type": "code",
   "execution_count": 3,
   "metadata": {},
   "outputs": [],
   "source": [
    "df.drop(['CD', 'Year', 'Month'], axis=1, inplace=True)"
   ]
  },
  {
   "cell_type": "markdown",
   "metadata": {},
   "source": [
    "### Define scoring function"
   ]
  },
  {
   "cell_type": "code",
   "execution_count": 12,
   "metadata": {},
   "outputs": [],
   "source": [
    "from sklearn.metrics import roc_auc_score, classification_report, f1_score, recall_score, precision_score"
   ]
  },
  {
   "cell_type": "code",
   "execution_count": 13,
   "metadata": {},
   "outputs": [],
   "source": [
    "# # create blank df to which we can concat scores \n",
    "# all_scores = pd.DataFrame(columns=['model', 'acc', 'auc', 'rec', 'prec', 'f-value', 'comment'])\n",
    "# all_scores.to_csv('model_all_scores.csv')"
   ]
  },
  {
   "cell_type": "code",
   "execution_count": 14,
   "metadata": {},
   "outputs": [],
   "source": [
    "def scoring_table(model, model_name, multi_class, comment):\n",
    "  # model: model object e.g. of type SVC \n",
    "  # model_name: str of model name \n",
    "  # multi_class: ovr or ovo \n",
    "  # comment: model parameters\n",
    "  \n",
    "  # scoring parameters included are \n",
    "  # accuracy, auc (multi_class specified by user), recall, precision (both macro - unweighted mean),  \n",
    "  \n",
    "  global X_test\n",
    "  global y_test\n",
    "\n",
    "  all_scores = pd.read_csv('model_all_scores.csv', index_col=0)\n",
    "  \n",
    "  # if entry already present, this ifelse portion ensures that\n",
    "  # we don't append duplicate entries to the csv \n",
    "  if model and comment in all_scores.values:\n",
    "    return \n",
    "        \n",
    "  else:\n",
    "\n",
    "    # get predictions\n",
    "    y_pred = model.predict(X_test)\n",
    "    y_pred_proba = model.predict_proba(X_test)\n",
    "\n",
    "    # accuracy\n",
    "    acc = round(model.score(X_test,y_test),4)\n",
    "\n",
    "    # auc roc \n",
    "    auc = round(roc_auc_score(y_test,y_pred_proba, multi_class=multi_class),4)\n",
    "\n",
    "    # recall\n",
    "    rec = round(recall_score(y_test,y_pred, average='macro'),4)\n",
    "\n",
    "    # precision\n",
    "    prec = round(precision_score(y_test,y_pred, average='macro'),4)\n",
    "\n",
    "    # f1\n",
    "    f1 = round(f1_score(y_test,y_pred,  average='macro'),4)\n",
    "\n",
    "    scores = pd.DataFrame([str(model_name), acc, auc, rec, prec, f1, str(comment)]).T\n",
    "    scores.columns = all_scores.columns\n",
    "\n",
    "    all_scores = pd.concat([all_scores,scores], axis=0, ignore_index=True)\n",
    "    \n",
    "    all_scores.to_csv('model_all_scores.csv')\n",
    "    return all_scores"
   ]
  },
  {
   "cell_type": "markdown",
   "metadata": {},
   "source": [
    "### Define confusion matrix function"
   ]
  },
  {
   "cell_type": "code",
   "execution_count": 15,
   "metadata": {},
   "outputs": [],
   "source": [
    "import seaborn as sns\n",
    "from sklearn.metrics import confusion_matrix\n",
    "import matplotlib.pyplot as plt\n",
    "\n",
    "def c_matrix(model, title, filename):\n",
    "  # model: model object\n",
    "  # title: string title of confusion matrix\n",
    "  # filename: string file name, please include .png at end\n",
    "  \n",
    "  global y_test\n",
    "  y_pred = model.predict(X_test)\n",
    "  \n",
    "  f, ax = plt.subplots(figsize=(7, 5))\n",
    "  sns.heatmap(confusion_matrix(y_test, y_pred),\n",
    "              annot=True, \n",
    "              fmt=\"d\", \n",
    "              linewidths=.5, \n",
    "              xticklabels=('0','1'),\n",
    "              yticklabels=('0','1'),\n",
    "              cmap=\"YlGnBu\").set(title=str(title))\n",
    "  \n",
    "  plt.savefig(str(filename), dpi=400)"
   ]
  },
  {
   "cell_type": "markdown",
   "metadata": {},
   "source": [
    "## Train test split"
   ]
  },
  {
   "cell_type": "code",
   "execution_count": 16,
   "metadata": {},
   "outputs": [],
   "source": [
    "y = df['dirty_level']\n",
    "X = df.drop('dirty_level', axis=1)"
   ]
  },
  {
   "cell_type": "code",
   "execution_count": 17,
   "metadata": {},
   "outputs": [],
   "source": [
    "X_train, X_test, y_train, y_test = train_test_split(X, y, test_size=0.2, random_state=999)"
   ]
  },
  {
   "cell_type": "markdown",
   "metadata": {},
   "source": [
    "## Untuned SVM"
   ]
  },
  {
   "cell_type": "code",
   "execution_count": 18,
   "metadata": {},
   "outputs": [],
   "source": [
    "clf = svm.SVC(random_state=99, probability=True)\n",
    "clf.fit(X_train, y_train)\n",
    "y_pred = clf.predict(X_test)"
   ]
  },
  {
   "cell_type": "code",
   "execution_count": 19,
   "metadata": {},
   "outputs": [
    {
     "name": "stdout",
     "output_type": "stream",
     "text": [
      "              precision    recall  f1-score   support\n",
      "\n",
      "           1       0.54      0.55      0.55       241\n",
      "           2       0.33      0.35      0.34       224\n",
      "           3       0.46      0.42      0.44       232\n",
      "\n",
      "    accuracy                           0.44       697\n",
      "   macro avg       0.44      0.44      0.44       697\n",
      "weighted avg       0.44      0.44      0.44       697\n",
      "\n"
     ]
    }
   ],
   "source": [
    "print(classification_report(y_test, y_pred))"
   ]
  },
  {
   "cell_type": "code",
   "execution_count": 20,
   "metadata": {},
   "outputs": [],
   "source": [
    "scoring_table(clf, 'svm', 'ovo', 'untuned')"
   ]
  },
  {
   "cell_type": "code",
   "execution_count": 21,
   "metadata": {},
   "outputs": [
    {
     "data": {
      "image/png": "[encoded data removed]",
      "text/plain": [
       "<Figure size 504x360 with 2 Axes>"
      ]
     },
     "metadata": {
      "needs_background": "light"
     },
     "output_type": "display_data"
    }
   ],
   "source": [
    "c_matrix(clf, 'SVM untuned', 'svm-untuned.png')"
   ]
  },
  {
   "cell_type": "markdown",
   "metadata": {},
   "source": [
    "## Tuning"
   ]
  },
  {
   "cell_type": "code",
   "execution_count": 27,
   "metadata": {},
   "outputs": [
    {
     "data": {
      "text/plain": [
       "GridSearchCV(cv=5, estimator=SVC(random_state=99),\n",
       "             param_grid={'C': [0.006737946999085467, 0.0074541086721749295,\n",
       "                               0.008246389605637307, 0.009122880349438393,\n",
       "                               0.010092531380432784, 0.011165244502115052,\n",
       "                               0.01235197395905096, 0.013664838298540717,\n",
       "                               0.01511724412181421, 0.016724022988470442,\n",
       "                               0.018501582872190996, 0.020468075714350484,\n",
       "                               0.02264358278653442, 0.02505031975...\n",
       "                               0.03391701802782724, 0.03752198381047752,\n",
       "                               0.04151011353411509, 0.045922132857324396,\n",
       "                               0.050803096080009554, 0.05620284622522774,\n",
       "                               0.06217652402211632, 0.06878513098750348,\n",
       "                               0.07609615235623413, 0.08418424622139925,\n",
       "                               0.09313200592177617, 0.10303080346176416,\n",
       "                               0.11398172257658408, 0.1260965909709399, ...],\n",
       "                         'decision_function_shape': ['ovo', 'ovr'],\n",
       "                         'gamma': [1, 0.1, 0.01, 0.001, 0.0001],\n",
       "                         'kernel': ['sigmoid', 'rbf']})"
      ]
     },
     "execution_count": 27,
     "metadata": {},
     "output_type": "execute_result"
    }
   ],
   "source": [
    "param_grid = {'C': [np.exp(i) for i in np.linspace(-5,5,100)],\n",
    "              'gamma': [1, 0.1, 0.01, 0.001, 0.0001],\n",
    "              'kernel': ['sigmoid', 'rbf'],\n",
    "              'decision_function_shape': ['ovo', 'ovr']}\n",
    "\n",
    "clf = svm.SVC(random_state=99)\n",
    "grid = GridSearchCV(clf, param_grid=param_grid, cv=5, refit = True)\n",
    " \n",
    "# fitting the model for grid search\n",
    "grid.fit(X_train, y_train)"
   ]
  },
  {
   "cell_type": "code",
   "execution_count": 28,
   "metadata": {},
   "outputs": [
    {
     "data": {
      "text/plain": [
       "{'C': 54.04942954924472,\n",
       " 'decision_function_shape': 'ovo',\n",
       " 'gamma': 0.001,\n",
       " 'kernel': 'rbf'}"
      ]
     },
     "execution_count": 28,
     "metadata": {},
     "output_type": "execute_result"
    }
   ],
   "source": [
    "grid.best_params_"
   ]
  },
  {
   "cell_type": "code",
   "execution_count": 30,
   "metadata": {},
   "outputs": [
    {
     "data": {
      "text/plain": [
       "SVC(C=54.04942954924472, decision_function_shape='ovo', gamma=0.001,\n",
       "    random_state=99)"
      ]
     },
     "execution_count": 30,
     "metadata": {},
     "output_type": "execute_result"
    }
   ],
   "source": [
    "grid.best_estimator_"
   ]
  },
  {
   "cell_type": "code",
   "execution_count": 31,
   "metadata": {},
   "outputs": [
    {
     "name": "stdout",
     "output_type": "stream",
     "text": [
      "              precision    recall  f1-score   support\n",
      "\n",
      "           1       0.72      0.66      0.69       241\n",
      "           2       0.50      0.53      0.51       224\n",
      "           3       0.73      0.75      0.74       232\n",
      "\n",
      "    accuracy                           0.65       697\n",
      "   macro avg       0.65      0.65      0.65       697\n",
      "weighted avg       0.65      0.65      0.65       697\n",
      "\n"
     ]
    }
   ],
   "source": [
    "from sklearn.metrics import classification_report\n",
    "y_pred = grid.predict(X_test)\n",
    "print(classification_report(y_test, y_pred))"
   ]
  },
  {
   "cell_type": "code",
   "execution_count": 22,
   "metadata": {},
   "outputs": [
    {
     "data": {
      "text/plain": [
       "SVC(C=54.04942954924472, decision_function_shape='ovo', gamma=0.001,\n",
       "    probability=True, random_state=99)"
      ]
     },
     "execution_count": 22,
     "metadata": {},
     "output_type": "execute_result"
    }
   ],
   "source": [
    "clf = svm.SVC(kernel = 'rbf', C=54.04942954924472, decision_function_shape='ovo', gamma=0.001,\n",
    "              random_state=99, probability=True)\n",
    "\n",
    "clf.fit(X_train, y_train)"
   ]
  },
  {
   "cell_type": "code",
   "execution_count": 25,
   "metadata": {},
   "outputs": [],
   "source": [
    "scoring_table(clf, 'svm', 'ovo', str(grid.best_params_))"
   ]
  },
  {
   "cell_type": "code",
   "execution_count": 27,
   "metadata": {},
   "outputs": [
    {
     "data": {
      "image/png": "[encoded data removed]",
      "text/plain": [
       "<Figure size 504x360 with 2 Axes>"
      ]
     },
     "metadata": {
      "needs_background": "light"
     },
     "output_type": "display_data"
    }
   ],
   "source": [
    "c_matrix(clf, 'SVM', 'svm-tuned-output.png')"
   ]
  },
  {
   "cell_type": "code",
   "execution_count": 36,
   "metadata": {},
   "outputs": [
    {
     "data": {
      "text/plain": [
       "Text(0.5, 0, 'Permutation Importance')"
      ]
     },
     "execution_count": 36,
     "metadata": {},
     "output_type": "execute_result"
    },
    {
     "data": {
      "image/png": "[encoded data removed]",
      "text/plain": [
       "<Figure size 432x288 with 1 Axes>"
      ]
     },
     "metadata": {
      "needs_background": "light"
     },
     "output_type": "display_data"
    }
   ],
   "source": [
    "from sklearn.inspection import permutation_importance\n",
    "import numpy as np\n",
    "import matplotlib.pyplot as plt\n",
    "%matplotlib inline\n",
    "\n",
    "perm_importance = permutation_importance(clf, X_test, y_test)\n",
    "\n",
    "feature_names = df.drop('dirty_level', axis=1).columns\n",
    "features = np.array(feature_names)\n",
    "\n",
    "sorted_idx = perm_importance.importances_mean.argsort()"
   ]
  },
  {
   "cell_type": "code",
   "execution_count": 38,
   "metadata": {},
   "outputs": [
    {
     "data": {
      "text/plain": [
       "Text(0.5, 0, 'Permutation Importance')"
      ]
     },
     "execution_count": 38,
     "metadata": {},
     "output_type": "execute_result"
    },
    {
     "data": {
      "image/png": "[encoded data removed]",
      "text/plain": [
       "<Figure size 432x288 with 1 Axes>"
      ]
     },
     "metadata": {
      "needs_background": "light"
     },
     "output_type": "display_data"
    }
   ],
   "source": [
    "plt.barh(features[sorted_idx], perm_importance.importances_mean[sorted_idx])\n",
    "plt.xlabel(\"Permutation Importance\")"
   ]
  },
  {
   "cell_type": "code",
   "execution_count": 39,
   "metadata": {},
   "outputs": [],
   "source": [
    "def f_importances(coef, names, top=-1):\n",
    "    imp = coef\n",
    "    imp, names = zip(*sorted(list(zip(imp, names))))\n",
    "\n",
    "    # Show all features\n",
    "    if top == -1:\n",
    "        top = len(names)\n",
    "\n",
    "    plt.barh(range(top), imp[::-1][0:top], align='center')\n",
    "    plt.yticks(range(top), names[::-1][0:top])\n",
    "    plt.show()\n",
    "\n",
    "# whatever your features are calle"
   ]
  },
  {
   "cell_type": "code",
   "execution_count": null,
   "metadata": {},
   "outputs": [],
   "source": []
  }
 ],
 "metadata": {
  "interpreter": {
   "hash": "54f3dc2f80a2504edc9a61873a0af2ddc8a8ba41a68c139ab682609a6ec27feb"
  },
  "kernelspec": {
   "display_name": "Python 3.8.5 ('base')",
   "language": "python",
   "name": "python3"
  },
  "language_info": {
   "codemirror_mode": {
    "name": "ipython",
    "version": 3
   },
   "file_extension": ".py",
   "mimetype": "text/x-python",
   "name": "python",
   "nbconvert_exporter": "python",
   "pygments_lexer": "ipython3",
   "version": "3.8.5"
  },
  "orig_nbformat": 4
 },
 "nbformat": 4,
 "nbformat_minor": 2
}
