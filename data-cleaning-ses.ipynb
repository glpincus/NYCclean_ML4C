{
 "cells": [
  {
   "cell_type": "code",
   "execution_count": 68,
   "metadata": {},
   "outputs": [],
   "source": [
    "import pandas as pd \n",
    "import os\n",
    "import warnings\n",
    "warnings.filterwarnings(\"ignore\")"
   ]
  },
  {
   "cell_type": "code",
   "execution_count": 28,
   "metadata": {},
   "outputs": [
    {
     "data": {
      "text/plain": [
       "'/Users/zenn/Documents/School/Machine Learning/Final Project'"
      ]
     },
     "execution_count": 28,
     "metadata": {},
     "output_type": "execute_result"
    }
   ],
   "source": [
    "os.getcwd()"
   ]
  },
  {
   "cell_type": "code",
   "execution_count": 29,
   "metadata": {},
   "outputs": [
    {
     "data": {
      "text/plain": [
       "(59, 205)"
      ]
     },
     "execution_count": 29,
     "metadata": {},
     "output_type": "execute_result"
    }
   ],
   "source": [
    "df = pd.read_csv('./Data/combined.csv')\n",
    "df.shape # should be length of 59"
   ]
  },
  {
   "cell_type": "code",
   "execution_count": 40,
   "metadata": {},
   "outputs": [],
   "source": [
    "# define relevant variables\n",
    "relevant_var = ['pop', 'homeless', 'poverty', \n",
    "                # age vars\n",
    "                'over', 'under']"
   ]
  },
  {
   "cell_type": "markdown",
   "metadata": {},
   "source": [
    "#### Exploring possible variables to use. "
   ]
  },
  {
   "cell_type": "code",
   "execution_count": 41,
   "metadata": {},
   "outputs": [
    {
     "data": {
      "text/plain": [
       "[['pop_acs',\n",
       "  'pop_2000',\n",
       "  'pop_2010',\n",
       "  'pop_change_00_10',\n",
       "  'fp_100_pop',\n",
       "  'fp_500_pop'],\n",
       " [],\n",
       " ['poverty_rate',\n",
       "  'moe_poverty_rate',\n",
       "  'poverty_rate_boro',\n",
       "  'poverty_rate_nyc',\n",
       "  'v_poverty'],\n",
       " ['female_85_over',\n",
       "  'male_85_over',\n",
       "  'moe_over65_rate',\n",
       "  'over65_rate',\n",
       "  'moe_over65_rate_boro',\n",
       "  'over65_rate_boro',\n",
       "  'moe_over65_rate_nyc',\n",
       "  'over65_rate_nyc',\n",
       "  'poverty_rate',\n",
       "  'moe_poverty_rate',\n",
       "  'poverty_rate_boro',\n",
       "  'poverty_rate_nyc',\n",
       "  'v_poverty'],\n",
       " ['female_under_5',\n",
       "  'male_under_5',\n",
       "  'moe_under18_rate',\n",
       "  'under18_rate',\n",
       "  'moe_under18_rate_boro',\n",
       "  'under18_rate_boro',\n",
       "  'moe_under18_rate_nyc',\n",
       "  'under18_rate_nyc']]"
      ]
     },
     "execution_count": 41,
     "metadata": {},
     "output_type": "execute_result"
    }
   ],
   "source": [
    "maybe_cols = []\n",
    "for var in relevant_var: \n",
    "    maybe_cols.append([col for col in df.columns if var in col])\n",
    "\n",
    "maybe_cols"
   ]
  },
  {
   "cell_type": "code",
   "execution_count": 47,
   "metadata": {},
   "outputs": [
    {
     "data": {
      "text/plain": [
       "['pct_white_nh']"
      ]
     },
     "execution_count": 47,
     "metadata": {},
     "output_type": "execute_result"
    }
   ],
   "source": [
    "[col for col in df.columns if 'white' in col]"
   ]
  },
  {
   "cell_type": "code",
   "execution_count": 56,
   "metadata": {},
   "outputs": [
    {
     "data": {
      "text/plain": [
       "[]"
      ]
     },
     "execution_count": 56,
     "metadata": {},
     "output_type": "execute_result"
    }
   ],
   "source": [
    "[col for col in df.columns if 'rent' in col]"
   ]
  },
  {
   "cell_type": "code",
   "execution_count": 52,
   "metadata": {},
   "outputs": [
    {
     "data": {
      "text/plain": [
       "['moe_mean_commute',\n",
       " 'mean_commute',\n",
       " 'moe_mean_commute_boro',\n",
       " 'mean_commute_boro',\n",
       " 'moe_mean_commute_nyc',\n",
       " 'mean_commute_nyc']"
      ]
     },
     "execution_count": 52,
     "metadata": {},
     "output_type": "execute_result"
    }
   ],
   "source": [
    "[col for col in df.columns if 'commute' in col]"
   ]
  },
  {
   "cell_type": "markdown",
   "metadata": {},
   "source": [
    "#### Selecting the relevant variables"
   ]
  },
  {
   "cell_type": "code",
   "execution_count": 70,
   "metadata": {},
   "outputs": [],
   "source": [
    "df1 = df[['borocd', \n",
    "    # population -- \n",
    "    'pop_2010',  # pop acs does not match entirely to cd, using pop_2010 instead\n",
    "    'area_sqmi', # for calculating pop density\n",
    "    # education --\n",
    "    'pct_bach_deg',\n",
    "    # age --\n",
    "    'over65_rate',\n",
    "    'under18_rate',\n",
    "    # others -- \n",
    "    'pct_white_nh', # proxy for race \n",
    "    'poverty_rate',\n",
    "    'pct_hh_rent_burd', # rent burden, proxy to combine income + rent cost\n",
    "    'mean_commute', # mean commute time to work\n",
    "    'unemployment',  \n",
    "    'crime_per_1000']]"
   ]
  },
  {
   "cell_type": "markdown",
   "metadata": {},
   "source": [
    "##### Calculating population density"
   ]
  },
  {
   "cell_type": "code",
   "execution_count": 71,
   "metadata": {},
   "outputs": [],
   "source": [
    "df1['pop_density'] = df1['pop_2010'] / df1['area_sqmi']\n",
    "df1.drop(['pop_2010', 'area_sqmi'], axis=1, inplace=True)"
   ]
  },
  {
   "cell_type": "markdown",
   "metadata": {},
   "source": [
    "#### Adding temporal dimension"
   ]
  },
  {
   "cell_type": "code",
   "execution_count": 120,
   "metadata": {},
   "outputs": [
    {
     "data": {
      "text/plain": [
       "Timestamp('2021-12-01 00:00:00')"
      ]
     },
     "execution_count": 120,
     "metadata": {},
     "output_type": "execute_result"
    }
   ],
   "source": [
    "# create datetime index of months within period we're interested in\n",
    "list_of_months = pd.date_range('2017-01-01','2022-01-01' , freq='1M')-pd.offsets.MonthBegin(1)\n",
    "len(list_of_months)\n",
    "max(list_of_months)"
   ]
  },
  {
   "cell_type": "code",
   "execution_count": 121,
   "metadata": {},
   "outputs": [
    {
     "data": {
      "text/plain": [
       "(3540, 12)"
      ]
     },
     "execution_count": 121,
     "metadata": {},
     "output_type": "execute_result"
    }
   ],
   "source": [
    "final_df = pd.DataFrame(columns=df1.columns)\n",
    "for month in list_of_months:\n",
    "    df1['month'] = month\n",
    "    final_df = pd.concat([final_df, df1])\n",
    "\n",
    "final_df.shape"
   ]
  },
  {
   "cell_type": "code",
   "execution_count": 122,
   "metadata": {},
   "outputs": [
    {
     "data": {
      "text/plain": [
       "60"
      ]
     },
     "execution_count": 122,
     "metadata": {},
     "output_type": "execute_result"
    }
   ],
   "source": [
    "final_df['month'].nunique()"
   ]
  },
  {
   "cell_type": "code",
   "execution_count": 130,
   "metadata": {},
   "outputs": [],
   "source": [
    "final_df.to_csv('ses_predictors.csv')"
   ]
  }
 ],
 "metadata": {
  "interpreter": {
   "hash": "54f3dc2f80a2504edc9a61873a0af2ddc8a8ba41a68c139ab682609a6ec27feb"
  },
  "kernelspec": {
   "display_name": "Python 3.8.5 ('base')",
   "language": "python",
   "name": "python3"
  },
  "language_info": {
   "codemirror_mode": {
    "name": "ipython",
    "version": 3
   },
   "file_extension": ".py",
   "mimetype": "text/x-python",
   "name": "python",
   "nbconvert_exporter": "python",
   "pygments_lexer": "ipython3",
   "version": "3.8.5"
  },
  "orig_nbformat": 4
 },
 "nbformat": 4,
 "nbformat_minor": 2
}
