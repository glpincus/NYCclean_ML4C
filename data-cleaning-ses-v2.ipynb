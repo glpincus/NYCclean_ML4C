{
 "cells": [
  {
   "cell_type": "code",
   "execution_count": 22,
   "metadata": {},
   "outputs": [],
   "source": [
    "import pandas as pd \n",
    "import os\n",
    "import warnings\n",
    "warnings.filterwarnings(\"ignore\")"
   ]
  },
  {
   "cell_type": "code",
   "execution_count": 23,
   "metadata": {},
   "outputs": [
    {
     "data": {
      "text/plain": [
       "'/Users/zenn/Documents/GitHub/NYCclean_ML4C'"
      ]
     },
     "execution_count": 23,
     "metadata": {},
     "output_type": "execute_result"
    }
   ],
   "source": [
    "os.getcwd()"
   ]
  },
  {
   "cell_type": "code",
   "execution_count": 24,
   "metadata": {},
   "outputs": [
    {
     "data": {
      "text/plain": [
       "(59, 205)"
      ]
     },
     "execution_count": 24,
     "metadata": {},
     "output_type": "execute_result"
    }
   ],
   "source": [
    "df = pd.read_csv('./Data/ses_initial_combined.csv')\n",
    "df.shape # should be length of 59"
   ]
  },
  {
   "cell_type": "code",
   "execution_count": 25,
   "metadata": {},
   "outputs": [],
   "source": [
    "# define relevant variables\n",
    "relevant_var = ['pop', 'homeless', 'poverty', \n",
    "                # age vars\n",
    "                'over', 'under']"
   ]
  },
  {
   "cell_type": "markdown",
   "metadata": {},
   "source": [
    "#### Exploring possible variables to use. "
   ]
  },
  {
   "cell_type": "code",
   "execution_count": 26,
   "metadata": {},
   "outputs": [
    {
     "data": {
      "text/plain": [
       "[['pop_acs',\n",
       "  'pop_2000',\n",
       "  'pop_2010',\n",
       "  'pop_change_00_10',\n",
       "  'fp_100_pop',\n",
       "  'fp_500_pop'],\n",
       " [],\n",
       " ['poverty_rate',\n",
       "  'moe_poverty_rate',\n",
       "  'poverty_rate_boro',\n",
       "  'poverty_rate_nyc',\n",
       "  'v_poverty'],\n",
       " ['female_85_over',\n",
       "  'male_85_over',\n",
       "  'moe_over65_rate',\n",
       "  'over65_rate',\n",
       "  'moe_over65_rate_boro',\n",
       "  'over65_rate_boro',\n",
       "  'moe_over65_rate_nyc',\n",
       "  'over65_rate_nyc',\n",
       "  'poverty_rate',\n",
       "  'moe_poverty_rate',\n",
       "  'poverty_rate_boro',\n",
       "  'poverty_rate_nyc',\n",
       "  'v_poverty'],\n",
       " ['female_under_5',\n",
       "  'male_under_5',\n",
       "  'moe_under18_rate',\n",
       "  'under18_rate',\n",
       "  'moe_under18_rate_boro',\n",
       "  'under18_rate_boro',\n",
       "  'moe_under18_rate_nyc',\n",
       "  'under18_rate_nyc']]"
      ]
     },
     "execution_count": 26,
     "metadata": {},
     "output_type": "execute_result"
    }
   ],
   "source": [
    "maybe_cols = []\n",
    "for var in relevant_var: \n",
    "    maybe_cols.append([col for col in df.columns if var in col])\n",
    "\n",
    "maybe_cols"
   ]
  },
  {
   "cell_type": "code",
   "execution_count": 27,
   "metadata": {},
   "outputs": [
    {
     "data": {
      "text/plain": [
       "['pct_white_nh']"
      ]
     },
     "execution_count": 27,
     "metadata": {},
     "output_type": "execute_result"
    }
   ],
   "source": [
    "[col for col in df.columns if 'white' in col]"
   ]
  },
  {
   "cell_type": "code",
   "execution_count": 28,
   "metadata": {},
   "outputs": [
    {
     "data": {
      "text/plain": [
       "['moe_hh_rent_burd',\n",
       " 'pct_hh_rent_burd',\n",
       " 'moe_hh_rent_burd_boro',\n",
       " 'pct_hh_rent_burd_boro',\n",
       " 'moe_hh_rent_burd_nyc',\n",
       " 'pct_hh_rent_burd_nyc',\n",
       " 'fp_100_rent_burden',\n",
       " 'fp_500_rent_burden',\n",
       " 'fp_100_rent_burden_value',\n",
       " 'fp_500_rent_burden_value']"
      ]
     },
     "execution_count": 28,
     "metadata": {},
     "output_type": "execute_result"
    }
   ],
   "source": [
    "[col for col in df.columns if 'rent' in col]"
   ]
  },
  {
   "cell_type": "code",
   "execution_count": 29,
   "metadata": {},
   "outputs": [
    {
     "data": {
      "text/plain": [
       "['moe_mean_commute',\n",
       " 'mean_commute',\n",
       " 'moe_mean_commute_boro',\n",
       " 'mean_commute_boro',\n",
       " 'moe_mean_commute_nyc',\n",
       " 'mean_commute_nyc']"
      ]
     },
     "execution_count": 29,
     "metadata": {},
     "output_type": "execute_result"
    }
   ],
   "source": [
    "[col for col in df.columns if 'commute' in col]"
   ]
  },
  {
   "cell_type": "markdown",
   "metadata": {},
   "source": [
    "#### Selecting the relevant variables"
   ]
  },
  {
   "cell_type": "code",
   "execution_count": 30,
   "metadata": {},
   "outputs": [],
   "source": [
    "df1 = df[['borocd', \n",
    "    # population -- \n",
    "    'pop_2010',  # pop acs does not match entirely to cd, using pop_2010 instead\n",
    "    'area_sqmi', # for calculating pop density\n",
    "    # education --\n",
    "    'pct_bach_deg',\n",
    "    # age --\n",
    "    'over65_rate',\n",
    "    'under18_rate',\n",
    "    # others -- \n",
    "    'pct_white_nh', # proxy for race \n",
    "    'poverty_rate',\n",
    "    'pct_hh_rent_burd', # rent burden, proxy to combine income + rent cost\n",
    "    'mean_commute', # mean commute time to work\n",
    "    'unemployment',  \n",
    "    'crime_per_1000']]"
   ]
  },
  {
   "cell_type": "markdown",
   "metadata": {},
   "source": [
    "##### Calculating population density"
   ]
  },
  {
   "cell_type": "code",
   "execution_count": 31,
   "metadata": {},
   "outputs": [],
   "source": [
    "df1['pop_density'] = df1['pop_2010'] / df1['area_sqmi']\n",
    "# df1.drop(['pop_2010', 'area_sqmi'], axis=1, inplace=True) keeping these columns for normalization later"
   ]
  },
  {
   "cell_type": "markdown",
   "metadata": {},
   "source": [
    "#### Adding temporal dimension"
   ]
  },
  {
   "cell_type": "code",
   "execution_count": 32,
   "metadata": {},
   "outputs": [
    {
     "data": {
      "text/plain": [
       "Timestamp('2021-10-01 00:00:00')"
      ]
     },
     "execution_count": 32,
     "metadata": {},
     "output_type": "execute_result"
    }
   ],
   "source": [
    "# create datetime index of months within period we're interested in\n",
    "list_of_months = pd.date_range('2016-11-01','2021-11-01' , freq='1M')-pd.offsets.MonthBegin(1)\n",
    "len(list_of_months)\n",
    "max(list_of_months)"
   ]
  },
  {
   "cell_type": "code",
   "execution_count": 33,
   "metadata": {},
   "outputs": [
    {
     "data": {
      "text/plain": [
       "(3540, 14)"
      ]
     },
     "execution_count": 33,
     "metadata": {},
     "output_type": "execute_result"
    }
   ],
   "source": [
    "final_df = pd.DataFrame(columns=df1.columns)\n",
    "for month in list_of_months:\n",
    "    df1['month'] = month\n",
    "    final_df = pd.concat([final_df, df1])\n",
    "\n",
    "final_df.shape"
   ]
  },
  {
   "cell_type": "code",
   "execution_count": 34,
   "metadata": {},
   "outputs": [
    {
     "data": {
      "text/plain": [
       "60"
      ]
     },
     "execution_count": 34,
     "metadata": {},
     "output_type": "execute_result"
    }
   ],
   "source": [
    "final_df['month'].nunique()"
   ]
  },
  {
   "cell_type": "code",
   "execution_count": 35,
   "metadata": {},
   "outputs": [
    {
     "data": {
      "text/html": [
       "<div>\n",
       "<style scoped>\n",
       "    .dataframe tbody tr th:only-of-type {\n",
       "        vertical-align: middle;\n",
       "    }\n",
       "\n",
       "    .dataframe tbody tr th {\n",
       "        vertical-align: top;\n",
       "    }\n",
       "\n",
       "    .dataframe thead th {\n",
       "        text-align: right;\n",
       "    }\n",
       "</style>\n",
       "<table border=\"1\" class=\"dataframe\">\n",
       "  <thead>\n",
       "    <tr style=\"text-align: right;\">\n",
       "      <th></th>\n",
       "      <th>borocd</th>\n",
       "      <th>pop_2010</th>\n",
       "      <th>area_sqmi</th>\n",
       "      <th>pct_bach_deg</th>\n",
       "      <th>over65_rate</th>\n",
       "      <th>under18_rate</th>\n",
       "      <th>pct_white_nh</th>\n",
       "      <th>poverty_rate</th>\n",
       "      <th>pct_hh_rent_burd</th>\n",
       "      <th>mean_commute</th>\n",
       "      <th>unemployment</th>\n",
       "      <th>crime_per_1000</th>\n",
       "      <th>pop_density</th>\n",
       "      <th>month</th>\n",
       "    </tr>\n",
       "  </thead>\n",
       "  <tbody>\n",
       "    <tr>\n",
       "      <th>0</th>\n",
       "      <td>201</td>\n",
       "      <td>91497</td>\n",
       "      <td>2.166633</td>\n",
       "      <td>11.3</td>\n",
       "      <td>9.0</td>\n",
       "      <td>29.7</td>\n",
       "      <td>2.1</td>\n",
       "      <td>32.3</td>\n",
       "      <td>49.4</td>\n",
       "      <td>42.5</td>\n",
       "      <td>6.4</td>\n",
       "      <td>21.7</td>\n",
       "      <td>42230.049029</td>\n",
       "      <td>2016-11-01</td>\n",
       "    </tr>\n",
       "    <tr>\n",
       "      <th>1</th>\n",
       "      <td>202</td>\n",
       "      <td>52246</td>\n",
       "      <td>2.218793</td>\n",
       "      <td>14.2</td>\n",
       "      <td>9.2</td>\n",
       "      <td>27.5</td>\n",
       "      <td>1.9</td>\n",
       "      <td>32.3</td>\n",
       "      <td>53.8</td>\n",
       "      <td>44.9</td>\n",
       "      <td>6.4</td>\n",
       "      <td>12.3</td>\n",
       "      <td>23547.039187</td>\n",
       "      <td>2016-11-01</td>\n",
       "    </tr>\n",
       "    <tr>\n",
       "      <th>2</th>\n",
       "      <td>203</td>\n",
       "      <td>79762</td>\n",
       "      <td>1.607575</td>\n",
       "      <td>14.1</td>\n",
       "      <td>9.2</td>\n",
       "      <td>29.1</td>\n",
       "      <td>1.2</td>\n",
       "      <td>31.4</td>\n",
       "      <td>48.0</td>\n",
       "      <td>43.9</td>\n",
       "      <td>6.6</td>\n",
       "      <td>13.6</td>\n",
       "      <td>49616.354945</td>\n",
       "      <td>2016-11-01</td>\n",
       "    </tr>\n",
       "    <tr>\n",
       "      <th>3</th>\n",
       "      <td>206</td>\n",
       "      <td>83268</td>\n",
       "      <td>1.530401</td>\n",
       "      <td>12.6</td>\n",
       "      <td>9.6</td>\n",
       "      <td>28.3</td>\n",
       "      <td>6.1</td>\n",
       "      <td>31.4</td>\n",
       "      <td>55.1</td>\n",
       "      <td>44.4</td>\n",
       "      <td>8.4</td>\n",
       "      <td>12.0</td>\n",
       "      <td>54409.272313</td>\n",
       "      <td>2016-11-01</td>\n",
       "    </tr>\n",
       "    <tr>\n",
       "      <th>4</th>\n",
       "      <td>204</td>\n",
       "      <td>146441</td>\n",
       "      <td>1.992040</td>\n",
       "      <td>15.8</td>\n",
       "      <td>9.7</td>\n",
       "      <td>27.7</td>\n",
       "      <td>1.9</td>\n",
       "      <td>34.7</td>\n",
       "      <td>54.0</td>\n",
       "      <td>41.9</td>\n",
       "      <td>6.4</td>\n",
       "      <td>14.6</td>\n",
       "      <td>73513.072409</td>\n",
       "      <td>2016-11-01</td>\n",
       "    </tr>\n",
       "  </tbody>\n",
       "</table>\n",
       "</div>"
      ],
      "text/plain": [
       "  borocd pop_2010  area_sqmi  pct_bach_deg  over65_rate  under18_rate  \\\n",
       "0    201    91497   2.166633          11.3          9.0          29.7   \n",
       "1    202    52246   2.218793          14.2          9.2          27.5   \n",
       "2    203    79762   1.607575          14.1          9.2          29.1   \n",
       "3    206    83268   1.530401          12.6          9.6          28.3   \n",
       "4    204   146441   1.992040          15.8          9.7          27.7   \n",
       "\n",
       "   pct_white_nh  poverty_rate  pct_hh_rent_burd  mean_commute  unemployment  \\\n",
       "0           2.1          32.3              49.4          42.5           6.4   \n",
       "1           1.9          32.3              53.8          44.9           6.4   \n",
       "2           1.2          31.4              48.0          43.9           6.6   \n",
       "3           6.1          31.4              55.1          44.4           8.4   \n",
       "4           1.9          34.7              54.0          41.9           6.4   \n",
       "\n",
       "   crime_per_1000   pop_density      month  \n",
       "0            21.7  42230.049029 2016-11-01  \n",
       "1            12.3  23547.039187 2016-11-01  \n",
       "2            13.6  49616.354945 2016-11-01  \n",
       "3            12.0  54409.272313 2016-11-01  \n",
       "4            14.6  73513.072409 2016-11-01  "
      ]
     },
     "execution_count": 35,
     "metadata": {},
     "output_type": "execute_result"
    }
   ],
   "source": [
    "final_df.head()"
   ]
  },
  {
   "cell_type": "code",
   "execution_count": 36,
   "metadata": {},
   "outputs": [],
   "source": [
    "# changing boro code \n",
    "df = final_df\n",
    "df['borocd']=df['borocd'].astype(str)\n",
    "df['borough_no'] = df['borocd'].str[0:1]\n",
    "df['cd']=df['borocd'].str[1:]\n",
    "\n",
    "df['borough_code'] = df['borough_no'].replace({'1': 'MN',\n",
    "                          '2': 'BX',\n",
    "                          '3':'BK',\n",
    "                          '4':'QN',\n",
    "                          '5': 'SI'})"
   ]
  },
  {
   "cell_type": "code",
   "execution_count": 37,
   "metadata": {},
   "outputs": [],
   "source": [
    "df['community_district'] = df['borough_code'] + df['cd']"
   ]
  },
  {
   "cell_type": "code",
   "execution_count": 38,
   "metadata": {},
   "outputs": [
    {
     "data": {
      "text/plain": [
       "59"
      ]
     },
     "execution_count": 38,
     "metadata": {},
     "output_type": "execute_result"
    }
   ],
   "source": [
    "df['community_district'].nunique() # sanity check"
   ]
  },
  {
   "cell_type": "code",
   "execution_count": 39,
   "metadata": {},
   "outputs": [],
   "source": [
    "df['year'] = df['month'].dt.year\n",
    "df['month'] = df['month'].dt.month"
   ]
  },
  {
   "cell_type": "code",
   "execution_count": 40,
   "metadata": {},
   "outputs": [
    {
     "data": {
      "text/html": [
       "<div>\n",
       "<style scoped>\n",
       "    .dataframe tbody tr th:only-of-type {\n",
       "        vertical-align: middle;\n",
       "    }\n",
       "\n",
       "    .dataframe tbody tr th {\n",
       "        vertical-align: top;\n",
       "    }\n",
       "\n",
       "    .dataframe thead th {\n",
       "        text-align: right;\n",
       "    }\n",
       "</style>\n",
       "<table border=\"1\" class=\"dataframe\">\n",
       "  <thead>\n",
       "    <tr style=\"text-align: right;\">\n",
       "      <th></th>\n",
       "      <th>borocd</th>\n",
       "      <th>pop_2010</th>\n",
       "      <th>area_sqmi</th>\n",
       "      <th>pct_bach_deg</th>\n",
       "      <th>over65_rate</th>\n",
       "      <th>under18_rate</th>\n",
       "      <th>pct_white_nh</th>\n",
       "      <th>poverty_rate</th>\n",
       "      <th>pct_hh_rent_burd</th>\n",
       "      <th>mean_commute</th>\n",
       "      <th>unemployment</th>\n",
       "      <th>crime_per_1000</th>\n",
       "      <th>pop_density</th>\n",
       "      <th>month</th>\n",
       "      <th>community_district</th>\n",
       "      <th>year</th>\n",
       "    </tr>\n",
       "  </thead>\n",
       "  <tbody>\n",
       "    <tr>\n",
       "      <th>0</th>\n",
       "      <td>201</td>\n",
       "      <td>91497</td>\n",
       "      <td>2.166633</td>\n",
       "      <td>11.3</td>\n",
       "      <td>9.0</td>\n",
       "      <td>29.7</td>\n",
       "      <td>2.1</td>\n",
       "      <td>32.3</td>\n",
       "      <td>49.4</td>\n",
       "      <td>42.5</td>\n",
       "      <td>6.4</td>\n",
       "      <td>21.7</td>\n",
       "      <td>42230.049029</td>\n",
       "      <td>11</td>\n",
       "      <td>BX01</td>\n",
       "      <td>2016</td>\n",
       "    </tr>\n",
       "    <tr>\n",
       "      <th>1</th>\n",
       "      <td>202</td>\n",
       "      <td>52246</td>\n",
       "      <td>2.218793</td>\n",
       "      <td>14.2</td>\n",
       "      <td>9.2</td>\n",
       "      <td>27.5</td>\n",
       "      <td>1.9</td>\n",
       "      <td>32.3</td>\n",
       "      <td>53.8</td>\n",
       "      <td>44.9</td>\n",
       "      <td>6.4</td>\n",
       "      <td>12.3</td>\n",
       "      <td>23547.039187</td>\n",
       "      <td>11</td>\n",
       "      <td>BX02</td>\n",
       "      <td>2016</td>\n",
       "    </tr>\n",
       "    <tr>\n",
       "      <th>2</th>\n",
       "      <td>203</td>\n",
       "      <td>79762</td>\n",
       "      <td>1.607575</td>\n",
       "      <td>14.1</td>\n",
       "      <td>9.2</td>\n",
       "      <td>29.1</td>\n",
       "      <td>1.2</td>\n",
       "      <td>31.4</td>\n",
       "      <td>48.0</td>\n",
       "      <td>43.9</td>\n",
       "      <td>6.6</td>\n",
       "      <td>13.6</td>\n",
       "      <td>49616.354945</td>\n",
       "      <td>11</td>\n",
       "      <td>BX03</td>\n",
       "      <td>2016</td>\n",
       "    </tr>\n",
       "    <tr>\n",
       "      <th>3</th>\n",
       "      <td>206</td>\n",
       "      <td>83268</td>\n",
       "      <td>1.530401</td>\n",
       "      <td>12.6</td>\n",
       "      <td>9.6</td>\n",
       "      <td>28.3</td>\n",
       "      <td>6.1</td>\n",
       "      <td>31.4</td>\n",
       "      <td>55.1</td>\n",
       "      <td>44.4</td>\n",
       "      <td>8.4</td>\n",
       "      <td>12.0</td>\n",
       "      <td>54409.272313</td>\n",
       "      <td>11</td>\n",
       "      <td>BX06</td>\n",
       "      <td>2016</td>\n",
       "    </tr>\n",
       "    <tr>\n",
       "      <th>4</th>\n",
       "      <td>204</td>\n",
       "      <td>146441</td>\n",
       "      <td>1.992040</td>\n",
       "      <td>15.8</td>\n",
       "      <td>9.7</td>\n",
       "      <td>27.7</td>\n",
       "      <td>1.9</td>\n",
       "      <td>34.7</td>\n",
       "      <td>54.0</td>\n",
       "      <td>41.9</td>\n",
       "      <td>6.4</td>\n",
       "      <td>14.6</td>\n",
       "      <td>73513.072409</td>\n",
       "      <td>11</td>\n",
       "      <td>BX04</td>\n",
       "      <td>2016</td>\n",
       "    </tr>\n",
       "  </tbody>\n",
       "</table>\n",
       "</div>"
      ],
      "text/plain": [
       "  borocd pop_2010  area_sqmi  pct_bach_deg  over65_rate  under18_rate  \\\n",
       "0    201    91497   2.166633          11.3          9.0          29.7   \n",
       "1    202    52246   2.218793          14.2          9.2          27.5   \n",
       "2    203    79762   1.607575          14.1          9.2          29.1   \n",
       "3    206    83268   1.530401          12.6          9.6          28.3   \n",
       "4    204   146441   1.992040          15.8          9.7          27.7   \n",
       "\n",
       "   pct_white_nh  poverty_rate  pct_hh_rent_burd  mean_commute  unemployment  \\\n",
       "0           2.1          32.3              49.4          42.5           6.4   \n",
       "1           1.9          32.3              53.8          44.9           6.4   \n",
       "2           1.2          31.4              48.0          43.9           6.6   \n",
       "3           6.1          31.4              55.1          44.4           8.4   \n",
       "4           1.9          34.7              54.0          41.9           6.4   \n",
       "\n",
       "   crime_per_1000   pop_density  month community_district  year  \n",
       "0            21.7  42230.049029     11               BX01  2016  \n",
       "1            12.3  23547.039187     11               BX02  2016  \n",
       "2            13.6  49616.354945     11               BX03  2016  \n",
       "3            12.0  54409.272313     11               BX06  2016  \n",
       "4            14.6  73513.072409     11               BX04  2016  "
      ]
     },
     "execution_count": 40,
     "metadata": {},
     "output_type": "execute_result"
    }
   ],
   "source": [
    "df.drop(['borough_no', 'cd', 'borough_code'], axis=1, inplace=True)\n",
    "df.head()"
   ]
  },
  {
   "cell_type": "code",
   "execution_count": 41,
   "metadata": {},
   "outputs": [],
   "source": [
    "df.to_csv('ses_predictors_v3.csv')"
   ]
  },
  {
   "cell_type": "code",
   "execution_count": 42,
   "metadata": {},
   "outputs": [
    {
     "data": {
      "text/html": [
       "<div>\n",
       "<style scoped>\n",
       "    .dataframe tbody tr th:only-of-type {\n",
       "        vertical-align: middle;\n",
       "    }\n",
       "\n",
       "    .dataframe tbody tr th {\n",
       "        vertical-align: top;\n",
       "    }\n",
       "\n",
       "    .dataframe thead th {\n",
       "        text-align: right;\n",
       "    }\n",
       "</style>\n",
       "<table border=\"1\" class=\"dataframe\">\n",
       "  <thead>\n",
       "    <tr style=\"text-align: right;\">\n",
       "      <th></th>\n",
       "      <th>borocd</th>\n",
       "      <th>pop_2010</th>\n",
       "      <th>area_sqmi</th>\n",
       "      <th>pct_bach_deg</th>\n",
       "      <th>over65_rate</th>\n",
       "      <th>under18_rate</th>\n",
       "      <th>pct_white_nh</th>\n",
       "      <th>poverty_rate</th>\n",
       "      <th>pct_hh_rent_burd</th>\n",
       "      <th>mean_commute</th>\n",
       "      <th>unemployment</th>\n",
       "      <th>crime_per_1000</th>\n",
       "      <th>pop_density</th>\n",
       "      <th>month</th>\n",
       "      <th>community_district</th>\n",
       "      <th>year</th>\n",
       "    </tr>\n",
       "  </thead>\n",
       "  <tbody>\n",
       "    <tr>\n",
       "      <th>0</th>\n",
       "      <td>201</td>\n",
       "      <td>91497</td>\n",
       "      <td>2.166633</td>\n",
       "      <td>11.3</td>\n",
       "      <td>9.0</td>\n",
       "      <td>29.7</td>\n",
       "      <td>2.1</td>\n",
       "      <td>32.3</td>\n",
       "      <td>49.4</td>\n",
       "      <td>42.5</td>\n",
       "      <td>6.4</td>\n",
       "      <td>21.7</td>\n",
       "      <td>42230.049029</td>\n",
       "      <td>11</td>\n",
       "      <td>BX01</td>\n",
       "      <td>2016</td>\n",
       "    </tr>\n",
       "    <tr>\n",
       "      <th>1</th>\n",
       "      <td>202</td>\n",
       "      <td>52246</td>\n",
       "      <td>2.218793</td>\n",
       "      <td>14.2</td>\n",
       "      <td>9.2</td>\n",
       "      <td>27.5</td>\n",
       "      <td>1.9</td>\n",
       "      <td>32.3</td>\n",
       "      <td>53.8</td>\n",
       "      <td>44.9</td>\n",
       "      <td>6.4</td>\n",
       "      <td>12.3</td>\n",
       "      <td>23547.039187</td>\n",
       "      <td>11</td>\n",
       "      <td>BX02</td>\n",
       "      <td>2016</td>\n",
       "    </tr>\n",
       "    <tr>\n",
       "      <th>2</th>\n",
       "      <td>203</td>\n",
       "      <td>79762</td>\n",
       "      <td>1.607575</td>\n",
       "      <td>14.1</td>\n",
       "      <td>9.2</td>\n",
       "      <td>29.1</td>\n",
       "      <td>1.2</td>\n",
       "      <td>31.4</td>\n",
       "      <td>48.0</td>\n",
       "      <td>43.9</td>\n",
       "      <td>6.6</td>\n",
       "      <td>13.6</td>\n",
       "      <td>49616.354945</td>\n",
       "      <td>11</td>\n",
       "      <td>BX03</td>\n",
       "      <td>2016</td>\n",
       "    </tr>\n",
       "    <tr>\n",
       "      <th>3</th>\n",
       "      <td>206</td>\n",
       "      <td>83268</td>\n",
       "      <td>1.530401</td>\n",
       "      <td>12.6</td>\n",
       "      <td>9.6</td>\n",
       "      <td>28.3</td>\n",
       "      <td>6.1</td>\n",
       "      <td>31.4</td>\n",
       "      <td>55.1</td>\n",
       "      <td>44.4</td>\n",
       "      <td>8.4</td>\n",
       "      <td>12.0</td>\n",
       "      <td>54409.272313</td>\n",
       "      <td>11</td>\n",
       "      <td>BX06</td>\n",
       "      <td>2016</td>\n",
       "    </tr>\n",
       "    <tr>\n",
       "      <th>4</th>\n",
       "      <td>204</td>\n",
       "      <td>146441</td>\n",
       "      <td>1.992040</td>\n",
       "      <td>15.8</td>\n",
       "      <td>9.7</td>\n",
       "      <td>27.7</td>\n",
       "      <td>1.9</td>\n",
       "      <td>34.7</td>\n",
       "      <td>54.0</td>\n",
       "      <td>41.9</td>\n",
       "      <td>6.4</td>\n",
       "      <td>14.6</td>\n",
       "      <td>73513.072409</td>\n",
       "      <td>11</td>\n",
       "      <td>BX04</td>\n",
       "      <td>2016</td>\n",
       "    </tr>\n",
       "  </tbody>\n",
       "</table>\n",
       "</div>"
      ],
      "text/plain": [
       "  borocd pop_2010  area_sqmi  pct_bach_deg  over65_rate  under18_rate  \\\n",
       "0    201    91497   2.166633          11.3          9.0          29.7   \n",
       "1    202    52246   2.218793          14.2          9.2          27.5   \n",
       "2    203    79762   1.607575          14.1          9.2          29.1   \n",
       "3    206    83268   1.530401          12.6          9.6          28.3   \n",
       "4    204   146441   1.992040          15.8          9.7          27.7   \n",
       "\n",
       "   pct_white_nh  poverty_rate  pct_hh_rent_burd  mean_commute  unemployment  \\\n",
       "0           2.1          32.3              49.4          42.5           6.4   \n",
       "1           1.9          32.3              53.8          44.9           6.4   \n",
       "2           1.2          31.4              48.0          43.9           6.6   \n",
       "3           6.1          31.4              55.1          44.4           8.4   \n",
       "4           1.9          34.7              54.0          41.9           6.4   \n",
       "\n",
       "   crime_per_1000   pop_density  month community_district  year  \n",
       "0            21.7  42230.049029     11               BX01  2016  \n",
       "1            12.3  23547.039187     11               BX02  2016  \n",
       "2            13.6  49616.354945     11               BX03  2016  \n",
       "3            12.0  54409.272313     11               BX06  2016  \n",
       "4            14.6  73513.072409     11               BX04  2016  "
      ]
     },
     "execution_count": 42,
     "metadata": {},
     "output_type": "execute_result"
    }
   ],
   "source": [
    "df.head()"
   ]
  },
  {
   "cell_type": "code",
   "execution_count": null,
   "metadata": {},
   "outputs": [],
   "source": []
  }
 ],
 "metadata": {
  "interpreter": {
   "hash": "54f3dc2f80a2504edc9a61873a0af2ddc8a8ba41a68c139ab682609a6ec27feb"
  },
  "kernelspec": {
   "display_name": "Python 3.8.5 ('base')",
   "language": "python",
   "name": "python3"
  },
  "language_info": {
   "codemirror_mode": {
    "name": "ipython",
    "version": 3
   },
   "file_extension": ".py",
   "mimetype": "text/x-python",
   "name": "python",
   "nbconvert_exporter": "python",
   "pygments_lexer": "ipython3",
   "version": "3.8.5"
  },
  "orig_nbformat": 4
 },
 "nbformat": 4,
 "nbformat_minor": 2
}
